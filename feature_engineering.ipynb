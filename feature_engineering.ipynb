{
 "cells": [
  {
   "cell_type": "code",
   "execution_count": 50,
   "id": "cbd82b28-c7b5-4431-b191-530ce8c8f3ec",
   "metadata": {
    "pycharm": {
     "is_executing": false
    }
   },
   "outputs": [],
   "source": [
    "import pandas as pd\n",
    "import numpy as np\n",
    "\n",
    "from typing import Callable"
   ]
  },
  {
   "cell_type": "code",
   "execution_count": 51,
   "id": "a7c829e2-da53-46eb-81fd-dd3afe1f794e",
   "metadata": {
    "pycharm": {
     "is_executing": false
    }
   },
   "outputs": [],
   "source": [
    "data = pd.read_csv(\"data/train.csv\")\n",
    "\n",
    "targets = data.columns[-3:]"
   ]
  },
  {
   "cell_type": "code",
   "execution_count": 52,
   "id": "259df0af-b6dc-49b5-9fab-709b83b90eab",
   "metadata": {
    "pycharm": {
     "is_executing": false
    }
   },
   "outputs": [],
   "source": [
    "def window_sliding(data: pd.DataFrame, features: dict[str, list[tuple]], in_place=False):\n",
    "    if not in_place:\n",
    "        data = data.copy()\n",
    "    \n",
    "    for feature, functions in features.items():\n",
    "        for func, sizes in functions.items():\n",
    "            for w_size in sizes:\n",
    "                rolling = data[feature].rolling(window=w_size, min_periods=1)\n",
    "                data[f\"{feature}_{func.__name__}_{w_size}h\"] = rolling.agg(func)\n",
    "    \n",
    "    if not in_place:\n",
    "        return data"
   ]
  },
  {
   "cell_type": "code",
   "execution_count": 53,
   "id": "122de88b-e3b4-45c3-9291-d83f9ca3dfa6",
   "metadata": {
    "pycharm": {
     "is_executing": false
    }
   },
   "outputs": [],
   "source": [
    "data_cp = data.copy()"
   ]
  },
  {
   "cell_type": "code",
   "execution_count": 54,
   "id": "05660375-d3ef-41be-8d0e-a9a0f3b57493",
   "metadata": {},
   "outputs": [],
   "source": [
    "sensors = data_cp.columns[4:9]"
   ]
  },
  {
   "cell_type": "markdown",
   "id": "f36d4755-f49f-4604-8141-b4e450f77322",
   "metadata": {},
   "source": [
    "Зададим размеры окон в часах, основываясь на выделенных периодах. Воспользуемся функциями min, max, std. При необходимости можно изменить периоды или функции."
   ]
  },
  {
   "cell_type": "code",
   "execution_count": 55,
   "id": "f930296f-a322-41dd-bbb0-116e423ae1ab",
   "metadata": {
    "pycharm": {
     "is_executing": false
    }
   },
   "outputs": [],
   "source": [
    "window_sliding(data_cp, dict(zip(list(targets) + list(sensors), [{np.max: [72, 48, 24], np.min: [72, 48, 24], np.std: [72, 48, 24], np.average: [72, 48, 24]}, \n",
    "                                                           {np.max: [72, 48, 24], np.min: [72, 48, 24], np.std: [72, 48, 24], np.average: [72, 48, 24]}, \n",
    "                                                           {np.max: [72, 48, 24], np.min: [72, 48, 24], np.std: [72, 48, 24], np.average: [72, 48, 24]},\n",
    "                                                                {np.max: [24], np.min: [24], np.std: [24], np.average: [24]},\n",
    "                                                                {np.max: [24], np.min: [24], np.std: [24], np.average: [24]},\n",
    "                                                                {np.max: [24], np.min: [24], np.std: [24], np.average: [24]},\n",
    "                                                                {np.max: [24], np.min: [24], np.std: [24], np.average: [24]},\n",
    "                                                                {np.max: [24], np.min: [24], np.std: [24], np.average: [24]}])), in_place=True)\n",
    "\n",
    "# TODO: horizont"
   ]
  },
  {
   "cell_type": "code",
   "execution_count": 56,
   "id": "3746ae32-04f7-4fae-becc-605b0f51caf0",
   "metadata": {},
   "outputs": [
    {
     "data": {
      "text/html": [
       "<div>\n",
       "<style scoped>\n",
       "    .dataframe tbody tr th:only-of-type {\n",
       "        vertical-align: middle;\n",
       "    }\n",
       "\n",
       "    .dataframe tbody tr th {\n",
       "        vertical-align: top;\n",
       "    }\n",
       "\n",
       "    .dataframe thead th {\n",
       "        text-align: right;\n",
       "    }\n",
       "</style>\n",
       "<table border=\"1\" class=\"dataframe\">\n",
       "  <thead>\n",
       "    <tr style=\"text-align: right;\">\n",
       "      <th></th>\n",
       "      <th>date_time</th>\n",
       "      <th>deg_C</th>\n",
       "      <th>relative_humidity</th>\n",
       "      <th>absolute_humidity</th>\n",
       "      <th>sensor_1</th>\n",
       "      <th>sensor_2</th>\n",
       "      <th>sensor_3</th>\n",
       "      <th>sensor_4</th>\n",
       "      <th>sensor_5</th>\n",
       "      <th>target_carbon_monoxide</th>\n",
       "      <th>...</th>\n",
       "      <th>sensor_3_std_24h</th>\n",
       "      <th>sensor_3_average_24h</th>\n",
       "      <th>sensor_4_amax_24h</th>\n",
       "      <th>sensor_4_amin_24h</th>\n",
       "      <th>sensor_4_std_24h</th>\n",
       "      <th>sensor_4_average_24h</th>\n",
       "      <th>sensor_5_amax_24h</th>\n",
       "      <th>sensor_5_amin_24h</th>\n",
       "      <th>sensor_5_std_24h</th>\n",
       "      <th>sensor_5_average_24h</th>\n",
       "    </tr>\n",
       "  </thead>\n",
       "  <tbody>\n",
       "    <tr>\n",
       "      <th>0</th>\n",
       "      <td>2010-03-10 18:00:00</td>\n",
       "      <td>13.1</td>\n",
       "      <td>46.0</td>\n",
       "      <td>0.7578</td>\n",
       "      <td>1387.2</td>\n",
       "      <td>1087.8</td>\n",
       "      <td>1056.0</td>\n",
       "      <td>1742.8</td>\n",
       "      <td>1293.4</td>\n",
       "      <td>2.5</td>\n",
       "      <td>...</td>\n",
       "      <td>NaN</td>\n",
       "      <td>1056.000000</td>\n",
       "      <td>1742.8</td>\n",
       "      <td>1742.8</td>\n",
       "      <td>NaN</td>\n",
       "      <td>1742.800000</td>\n",
       "      <td>1293.4</td>\n",
       "      <td>1293.4</td>\n",
       "      <td>NaN</td>\n",
       "      <td>1293.400000</td>\n",
       "    </tr>\n",
       "    <tr>\n",
       "      <th>1</th>\n",
       "      <td>2010-03-10 19:00:00</td>\n",
       "      <td>13.2</td>\n",
       "      <td>45.3</td>\n",
       "      <td>0.7255</td>\n",
       "      <td>1279.1</td>\n",
       "      <td>888.2</td>\n",
       "      <td>1197.5</td>\n",
       "      <td>1449.9</td>\n",
       "      <td>1010.9</td>\n",
       "      <td>2.1</td>\n",
       "      <td>...</td>\n",
       "      <td>100.055610</td>\n",
       "      <td>1126.750000</td>\n",
       "      <td>1742.8</td>\n",
       "      <td>1449.9</td>\n",
       "      <td>207.111576</td>\n",
       "      <td>1596.350000</td>\n",
       "      <td>1293.4</td>\n",
       "      <td>1010.9</td>\n",
       "      <td>199.757666</td>\n",
       "      <td>1152.150000</td>\n",
       "    </tr>\n",
       "    <tr>\n",
       "      <th>2</th>\n",
       "      <td>2010-03-10 20:00:00</td>\n",
       "      <td>12.6</td>\n",
       "      <td>56.2</td>\n",
       "      <td>0.7502</td>\n",
       "      <td>1331.9</td>\n",
       "      <td>929.6</td>\n",
       "      <td>1060.2</td>\n",
       "      <td>1586.1</td>\n",
       "      <td>1117.0</td>\n",
       "      <td>2.2</td>\n",
       "      <td>...</td>\n",
       "      <td>80.510020</td>\n",
       "      <td>1104.566667</td>\n",
       "      <td>1742.8</td>\n",
       "      <td>1449.9</td>\n",
       "      <td>146.569517</td>\n",
       "      <td>1592.933333</td>\n",
       "      <td>1293.4</td>\n",
       "      <td>1010.9</td>\n",
       "      <td>142.700397</td>\n",
       "      <td>1140.433333</td>\n",
       "    </tr>\n",
       "    <tr>\n",
       "      <th>3</th>\n",
       "      <td>2010-03-10 21:00:00</td>\n",
       "      <td>11.0</td>\n",
       "      <td>62.4</td>\n",
       "      <td>0.7867</td>\n",
       "      <td>1321.0</td>\n",
       "      <td>929.0</td>\n",
       "      <td>1102.9</td>\n",
       "      <td>1536.5</td>\n",
       "      <td>1263.2</td>\n",
       "      <td>2.2</td>\n",
       "      <td>...</td>\n",
       "      <td>65.741438</td>\n",
       "      <td>1104.150000</td>\n",
       "      <td>1742.8</td>\n",
       "      <td>1449.9</td>\n",
       "      <td>122.954988</td>\n",
       "      <td>1578.825000</td>\n",
       "      <td>1293.4</td>\n",
       "      <td>1010.9</td>\n",
       "      <td>131.694783</td>\n",
       "      <td>1171.125000</td>\n",
       "    </tr>\n",
       "    <tr>\n",
       "      <th>4</th>\n",
       "      <td>2010-03-10 22:00:00</td>\n",
       "      <td>11.9</td>\n",
       "      <td>59.0</td>\n",
       "      <td>0.7888</td>\n",
       "      <td>1272.0</td>\n",
       "      <td>852.7</td>\n",
       "      <td>1180.9</td>\n",
       "      <td>1415.5</td>\n",
       "      <td>1132.2</td>\n",
       "      <td>1.5</td>\n",
       "      <td>...</td>\n",
       "      <td>66.479809</td>\n",
       "      <td>1119.500000</td>\n",
       "      <td>1742.8</td>\n",
       "      <td>1415.5</td>\n",
       "      <td>129.125745</td>\n",
       "      <td>1546.160000</td>\n",
       "      <td>1293.4</td>\n",
       "      <td>1010.9</td>\n",
       "      <td>115.371868</td>\n",
       "      <td>1163.340000</td>\n",
       "    </tr>\n",
       "  </tbody>\n",
       "</table>\n",
       "<p>5 rows × 68 columns</p>\n",
       "</div>"
      ],
      "text/plain": [
       "             date_time  deg_C  relative_humidity  absolute_humidity  sensor_1  \\\n",
       "0  2010-03-10 18:00:00   13.1               46.0             0.7578    1387.2   \n",
       "1  2010-03-10 19:00:00   13.2               45.3             0.7255    1279.1   \n",
       "2  2010-03-10 20:00:00   12.6               56.2             0.7502    1331.9   \n",
       "3  2010-03-10 21:00:00   11.0               62.4             0.7867    1321.0   \n",
       "4  2010-03-10 22:00:00   11.9               59.0             0.7888    1272.0   \n",
       "\n",
       "   sensor_2  sensor_3  sensor_4  sensor_5  target_carbon_monoxide  ...  \\\n",
       "0    1087.8    1056.0    1742.8    1293.4                     2.5  ...   \n",
       "1     888.2    1197.5    1449.9    1010.9                     2.1  ...   \n",
       "2     929.6    1060.2    1586.1    1117.0                     2.2  ...   \n",
       "3     929.0    1102.9    1536.5    1263.2                     2.2  ...   \n",
       "4     852.7    1180.9    1415.5    1132.2                     1.5  ...   \n",
       "\n",
       "   sensor_3_std_24h  sensor_3_average_24h  sensor_4_amax_24h  \\\n",
       "0               NaN           1056.000000             1742.8   \n",
       "1        100.055610           1126.750000             1742.8   \n",
       "2         80.510020           1104.566667             1742.8   \n",
       "3         65.741438           1104.150000             1742.8   \n",
       "4         66.479809           1119.500000             1742.8   \n",
       "\n",
       "   sensor_4_amin_24h  sensor_4_std_24h  sensor_4_average_24h  \\\n",
       "0             1742.8               NaN           1742.800000   \n",
       "1             1449.9        207.111576           1596.350000   \n",
       "2             1449.9        146.569517           1592.933333   \n",
       "3             1449.9        122.954988           1578.825000   \n",
       "4             1415.5        129.125745           1546.160000   \n",
       "\n",
       "   sensor_5_amax_24h  sensor_5_amin_24h  sensor_5_std_24h  \\\n",
       "0             1293.4             1293.4               NaN   \n",
       "1             1293.4             1010.9        199.757666   \n",
       "2             1293.4             1010.9        142.700397   \n",
       "3             1293.4             1010.9        131.694783   \n",
       "4             1293.4             1010.9        115.371868   \n",
       "\n",
       "   sensor_5_average_24h  \n",
       "0           1293.400000  \n",
       "1           1152.150000  \n",
       "2           1140.433333  \n",
       "3           1171.125000  \n",
       "4           1163.340000  \n",
       "\n",
       "[5 rows x 68 columns]"
      ]
     },
     "execution_count": 56,
     "metadata": {},
     "output_type": "execute_result"
    }
   ],
   "source": [
    "data_cp.head(5)"
   ]
  },
  {
   "cell_type": "markdown",
   "id": "b1f1fc66-bdca-47b7-918e-47a411a870ca",
   "metadata": {},
   "source": [
    "Также можно продифферецнировать ряд"
   ]
  },
  {
   "cell_type": "code",
   "execution_count": 57,
   "id": "cfcf5f27-498f-4c42-ad15-5dadb8d65725",
   "metadata": {
    "pycharm": {
     "is_executing": false
    }
   },
   "outputs": [],
   "source": [
    "def diff(targets_with_n: dict):\n",
    "    for t, n in targets_with_n.items():\n",
    "        data_cp[f'{t}_diff'] = data_cp[f'{t}'].diff(n)"
   ]
  },
  {
   "cell_type": "code",
   "execution_count": 58,
   "id": "8fe96986-d8ed-464e-98a3-509701411a2a",
   "metadata": {
    "pycharm": {
     "is_executing": false
    }
   },
   "outputs": [],
   "source": [
    "diff(dict(zip(targets, [1, 1, 1])))"
   ]
  },
  {
   "cell_type": "markdown",
   "id": "1dbeb373-4a00-4b27-968a-1f19a9deeea1",
   "metadata": {},
   "source": [
    "Также сделаем отдельные параметры для дня, месяца, года. Также сделаем отдельный параметр для сезонов, как это было сделано в EDA"
   ]
  },
  {
   "cell_type": "code",
   "execution_count": 59,
   "id": "43373867-d73a-43e5-97d9-e9af6f50cf08",
   "metadata": {
    "pycharm": {
     "is_executing": false
    }
   },
   "outputs": [],
   "source": [
    "data_cp.date_time = pd.to_datetime(data.date_time)"
   ]
  },
  {
   "cell_type": "code",
   "execution_count": 60,
   "id": "55543034-a0ec-4940-96b1-5b3b4ec276a1",
   "metadata": {
    "pycharm": {
     "is_executing": false
    }
   },
   "outputs": [],
   "source": [
    "interval_1 = data.date_time < data.date_time[3450]\n",
    "interval_2 = (data.date_time > data.date_time[3450]) & (data.date_time < data.date_time[4200])\n",
    "interval_3 = data.date_time > data.date_time[4200]\n",
    "\n",
    "data_cp[\"season\"] = np.nan\n",
    "data_cp.loc[interval_1, 'season'], data_cp.loc[interval_2, 'season'], data_cp.loc[interval_3, 'season'] = 1, 2, 3"
   ]
  },
  {
   "cell_type": "code",
   "execution_count": 61,
   "id": "35d1f21c-07db-4552-bacc-e87408a8e865",
   "metadata": {
    "pycharm": {
     "is_executing": false
    }
   },
   "outputs": [],
   "source": [
    "data_cp[\"date_time_hour\"] = data_cp.date_time.dt.hour\n",
    "data_cp[\"date_time_day\"] = data_cp.date_time.dt.day\n",
    "data_cp[\"date_time_month\"] = data_cp.date_time.dt.month\n",
    "data_cp[\"date_time_year\"] = data_cp.date_time.dt.year"
   ]
  },
  {
   "cell_type": "code",
   "execution_count": 62,
   "id": "0c50cb3e-a3b0-4119-a36b-129b0b183b8c",
   "metadata": {
    "pycharm": {
     "is_executing": false
    }
   },
   "outputs": [
    {
     "data": {
      "text/html": [
       "<div>\n",
       "<style scoped>\n",
       "    .dataframe tbody tr th:only-of-type {\n",
       "        vertical-align: middle;\n",
       "    }\n",
       "\n",
       "    .dataframe tbody tr th {\n",
       "        vertical-align: top;\n",
       "    }\n",
       "\n",
       "    .dataframe thead th {\n",
       "        text-align: right;\n",
       "    }\n",
       "</style>\n",
       "<table border=\"1\" class=\"dataframe\">\n",
       "  <thead>\n",
       "    <tr style=\"text-align: right;\">\n",
       "      <th></th>\n",
       "      <th>target_carbon_monoxide</th>\n",
       "      <th>target_benzene</th>\n",
       "      <th>target_nitrogen_oxides</th>\n",
       "      <th>target_carbon_monoxide_amax_72h</th>\n",
       "      <th>target_carbon_monoxide_amax_48h</th>\n",
       "      <th>target_carbon_monoxide_amax_24h</th>\n",
       "      <th>target_carbon_monoxide_amin_72h</th>\n",
       "      <th>target_carbon_monoxide_amin_48h</th>\n",
       "      <th>target_carbon_monoxide_amin_24h</th>\n",
       "      <th>target_carbon_monoxide_std_72h</th>\n",
       "      <th>...</th>\n",
       "      <th>sensor_5_std_24h</th>\n",
       "      <th>sensor_5_average_24h</th>\n",
       "      <th>target_carbon_monoxide_diff</th>\n",
       "      <th>target_benzene_diff</th>\n",
       "      <th>target_nitrogen_oxides_diff</th>\n",
       "      <th>season</th>\n",
       "      <th>date_time_hour</th>\n",
       "      <th>date_time_day</th>\n",
       "      <th>date_time_month</th>\n",
       "      <th>date_time_year</th>\n",
       "    </tr>\n",
       "  </thead>\n",
       "  <tbody>\n",
       "    <tr>\n",
       "      <th>0</th>\n",
       "      <td>2.5</td>\n",
       "      <td>12.0</td>\n",
       "      <td>167.7</td>\n",
       "      <td>2.5</td>\n",
       "      <td>2.5</td>\n",
       "      <td>2.5</td>\n",
       "      <td>2.5</td>\n",
       "      <td>2.5</td>\n",
       "      <td>2.5</td>\n",
       "      <td>NaN</td>\n",
       "      <td>...</td>\n",
       "      <td>NaN</td>\n",
       "      <td>1293.400000</td>\n",
       "      <td>NaN</td>\n",
       "      <td>NaN</td>\n",
       "      <td>NaN</td>\n",
       "      <td>1.0</td>\n",
       "      <td>18</td>\n",
       "      <td>10</td>\n",
       "      <td>3</td>\n",
       "      <td>2010</td>\n",
       "    </tr>\n",
       "    <tr>\n",
       "      <th>1</th>\n",
       "      <td>2.1</td>\n",
       "      <td>9.9</td>\n",
       "      <td>98.9</td>\n",
       "      <td>2.5</td>\n",
       "      <td>2.5</td>\n",
       "      <td>2.5</td>\n",
       "      <td>2.1</td>\n",
       "      <td>2.1</td>\n",
       "      <td>2.1</td>\n",
       "      <td>0.282843</td>\n",
       "      <td>...</td>\n",
       "      <td>199.757666</td>\n",
       "      <td>1152.150000</td>\n",
       "      <td>-0.4</td>\n",
       "      <td>-2.1</td>\n",
       "      <td>-68.8</td>\n",
       "      <td>1.0</td>\n",
       "      <td>19</td>\n",
       "      <td>10</td>\n",
       "      <td>3</td>\n",
       "      <td>2010</td>\n",
       "    </tr>\n",
       "    <tr>\n",
       "      <th>2</th>\n",
       "      <td>2.2</td>\n",
       "      <td>9.2</td>\n",
       "      <td>127.1</td>\n",
       "      <td>2.5</td>\n",
       "      <td>2.5</td>\n",
       "      <td>2.5</td>\n",
       "      <td>2.1</td>\n",
       "      <td>2.1</td>\n",
       "      <td>2.1</td>\n",
       "      <td>0.208167</td>\n",
       "      <td>...</td>\n",
       "      <td>142.700397</td>\n",
       "      <td>1140.433333</td>\n",
       "      <td>0.1</td>\n",
       "      <td>-0.7</td>\n",
       "      <td>28.2</td>\n",
       "      <td>1.0</td>\n",
       "      <td>20</td>\n",
       "      <td>10</td>\n",
       "      <td>3</td>\n",
       "      <td>2010</td>\n",
       "    </tr>\n",
       "    <tr>\n",
       "      <th>3</th>\n",
       "      <td>2.2</td>\n",
       "      <td>9.7</td>\n",
       "      <td>177.2</td>\n",
       "      <td>2.5</td>\n",
       "      <td>2.5</td>\n",
       "      <td>2.5</td>\n",
       "      <td>2.1</td>\n",
       "      <td>2.1</td>\n",
       "      <td>2.1</td>\n",
       "      <td>0.173205</td>\n",
       "      <td>...</td>\n",
       "      <td>131.694783</td>\n",
       "      <td>1171.125000</td>\n",
       "      <td>0.0</td>\n",
       "      <td>0.5</td>\n",
       "      <td>50.1</td>\n",
       "      <td>1.0</td>\n",
       "      <td>21</td>\n",
       "      <td>10</td>\n",
       "      <td>3</td>\n",
       "      <td>2010</td>\n",
       "    </tr>\n",
       "    <tr>\n",
       "      <th>4</th>\n",
       "      <td>1.5</td>\n",
       "      <td>6.4</td>\n",
       "      <td>121.8</td>\n",
       "      <td>2.5</td>\n",
       "      <td>2.5</td>\n",
       "      <td>2.5</td>\n",
       "      <td>1.5</td>\n",
       "      <td>1.5</td>\n",
       "      <td>1.5</td>\n",
       "      <td>0.367423</td>\n",
       "      <td>...</td>\n",
       "      <td>115.371868</td>\n",
       "      <td>1163.340000</td>\n",
       "      <td>-0.7</td>\n",
       "      <td>-3.3</td>\n",
       "      <td>-55.4</td>\n",
       "      <td>1.0</td>\n",
       "      <td>22</td>\n",
       "      <td>10</td>\n",
       "      <td>3</td>\n",
       "      <td>2010</td>\n",
       "    </tr>\n",
       "  </tbody>\n",
       "</table>\n",
       "<p>5 rows × 67 columns</p>\n",
       "</div>"
      ],
      "text/plain": [
       "   target_carbon_monoxide  target_benzene  target_nitrogen_oxides  \\\n",
       "0                     2.5            12.0                   167.7   \n",
       "1                     2.1             9.9                    98.9   \n",
       "2                     2.2             9.2                   127.1   \n",
       "3                     2.2             9.7                   177.2   \n",
       "4                     1.5             6.4                   121.8   \n",
       "\n",
       "   target_carbon_monoxide_amax_72h  target_carbon_monoxide_amax_48h  \\\n",
       "0                              2.5                              2.5   \n",
       "1                              2.5                              2.5   \n",
       "2                              2.5                              2.5   \n",
       "3                              2.5                              2.5   \n",
       "4                              2.5                              2.5   \n",
       "\n",
       "   target_carbon_monoxide_amax_24h  target_carbon_monoxide_amin_72h  \\\n",
       "0                              2.5                              2.5   \n",
       "1                              2.5                              2.1   \n",
       "2                              2.5                              2.1   \n",
       "3                              2.5                              2.1   \n",
       "4                              2.5                              1.5   \n",
       "\n",
       "   target_carbon_monoxide_amin_48h  target_carbon_monoxide_amin_24h  \\\n",
       "0                              2.5                              2.5   \n",
       "1                              2.1                              2.1   \n",
       "2                              2.1                              2.1   \n",
       "3                              2.1                              2.1   \n",
       "4                              1.5                              1.5   \n",
       "\n",
       "   target_carbon_monoxide_std_72h  ...  sensor_5_std_24h  \\\n",
       "0                             NaN  ...               NaN   \n",
       "1                        0.282843  ...        199.757666   \n",
       "2                        0.208167  ...        142.700397   \n",
       "3                        0.173205  ...        131.694783   \n",
       "4                        0.367423  ...        115.371868   \n",
       "\n",
       "   sensor_5_average_24h  target_carbon_monoxide_diff  target_benzene_diff  \\\n",
       "0           1293.400000                          NaN                  NaN   \n",
       "1           1152.150000                         -0.4                 -2.1   \n",
       "2           1140.433333                          0.1                 -0.7   \n",
       "3           1171.125000                          0.0                  0.5   \n",
       "4           1163.340000                         -0.7                 -3.3   \n",
       "\n",
       "   target_nitrogen_oxides_diff  season  date_time_hour  date_time_day  \\\n",
       "0                          NaN     1.0              18             10   \n",
       "1                        -68.8     1.0              19             10   \n",
       "2                         28.2     1.0              20             10   \n",
       "3                         50.1     1.0              21             10   \n",
       "4                        -55.4     1.0              22             10   \n",
       "\n",
       "   date_time_month  date_time_year  \n",
       "0                3            2010  \n",
       "1                3            2010  \n",
       "2                3            2010  \n",
       "3                3            2010  \n",
       "4                3            2010  \n",
       "\n",
       "[5 rows x 67 columns]"
      ]
     },
     "execution_count": 62,
     "metadata": {},
     "output_type": "execute_result"
    }
   ],
   "source": [
    "data_cp.iloc[:, 9:].head(5)"
   ]
  },
  {
   "cell_type": "markdown",
   "id": "cbf931f7-28a9-4545-bb72-70a376516654",
   "metadata": {},
   "source": [
    "Основываясь на графиках можно задать нелинейные параметры"
   ]
  },
  {
   "cell_type": "code",
   "execution_count": 63,
   "id": "58638379-2718-4a73-b396-3098ee8aef51",
   "metadata": {
    "pycharm": {
     "is_executing": false
    }
   },
   "outputs": [],
   "source": [
    "data_cp['sens_sq'] = data['sensor_2']**2\n",
    "data_cp['sens_hyp'] = 1 / data['sensor_3']"
   ]
  },
  {
   "cell_type": "markdown",
   "id": "79f5a351-239a-450e-add6-44f8691f4d30",
   "metadata": {},
   "source": [
    "Также нам может понадобиться масштабирование признаков. Если этого не сделать, то в случае применения регуляризации модель будет работать хуже, так как у малых по модулю признаков, возможно, будут большие веса, а регуляризация \"штрафует\" за это. Также масштабирование повысит интерпретируемость, так как веса можно будет понимать как важность признака."
   ]
  },
  {
   "cell_type": "code",
   "execution_count": 64,
   "id": "fc25ca48-84fe-424d-bd97-fc2b26d88a89",
   "metadata": {
    "pycharm": {
     "is_executing": false
    }
   },
   "outputs": [],
   "source": [
    "features = list(data_cp.columns[1:9]) + list(data_cp.columns[12:])"
   ]
  },
  {
   "cell_type": "code",
   "execution_count": 65,
   "id": "995fb5aa-7716-4a54-8eda-652a4ba29798",
   "metadata": {
    "pycharm": {
     "is_executing": false
    }
   },
   "outputs": [],
   "source": [
    "from sklearn.preprocessing import StandardScaler\n",
    "\n",
    "X, Y = data_cp.dropna()[features], data_cp.dropna()[targets]\n",
    "\n",
    "scaler = StandardScaler()\n",
    "features_scaled = scaler.fit_transform(X, Y)"
   ]
  },
  {
   "cell_type": "code",
   "execution_count": 66,
   "id": "ff04a17f-511f-4e7d-93b7-1dd111a8a727",
   "metadata": {
    "pycharm": {
     "is_executing": false
    }
   },
   "outputs": [
    {
     "name": "stdout",
     "output_type": "stream",
     "text": [
      "Stored 'features_scaled' (ndarray)\n",
      "Stored 'Y' (DataFrame)\n",
      "Stored 'features' (list)\n",
      "Stored 'data_cp' (DataFrame)\n"
     ]
    }
   ],
   "source": [
    "%store features_scaled\n",
    "%store Y\n",
    "%store features\n",
    "%store data_cp"
   ]
  },
  {
   "cell_type": "code",
   "execution_count": null,
   "id": "7385498a-f92a-45d8-8f06-2c17a9c3c81e",
   "metadata": {},
   "outputs": [],
   "source": []
  },
  {
   "cell_type": "code",
   "execution_count": null,
   "id": "6e416928-caf0-4036-9607-e9142e912ef6",
   "metadata": {},
   "outputs": [],
   "source": []
  },
  {
   "cell_type": "code",
   "execution_count": null,
   "id": "7469e665-5e3b-48e2-ba8e-e77945a82753",
   "metadata": {},
   "outputs": [],
   "source": []
  }
 ],
 "metadata": {
  "kernelspec": {
   "display_name": "Python 3",
   "language": "python",
   "name": "python3"
  },
  "language_info": {
   "codemirror_mode": {
    "name": "ipython",
    "version": 3
   },
   "file_extension": ".py",
   "mimetype": "text/x-python",
   "name": "python",
   "nbconvert_exporter": "python",
   "pygments_lexer": "ipython3",
   "version": "3.9.5"
  }
 },
 "nbformat": 4,
 "nbformat_minor": 5
}

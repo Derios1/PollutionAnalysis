{
 "cells": [
  {
   "cell_type": "code",
   "execution_count": 17,
   "id": "cbd82b28-c7b5-4431-b191-530ce8c8f3ec",
   "metadata": {
    "pycharm": {
     "is_executing": false
    }
   },
   "outputs": [],
   "source": [
    "import pandas as pd\n",
    "import numpy as np\n",
    "from features_creation import window_sliding, save_data"
   ]
  },
  {
   "cell_type": "code",
   "execution_count": 18,
   "id": "a7c829e2-da53-46eb-81fd-dd3afe1f794e",
   "metadata": {
    "pycharm": {
     "is_executing": false
    }
   },
   "outputs": [],
   "source": [
    "data = pd.read_csv(\"data/train.csv\")\n",
    "\n",
    "targets = data.columns[-3:]"
   ]
  },
  {
   "cell_type": "code",
   "execution_count": 19,
   "id": "122de88b-e3b4-45c3-9291-d83f9ca3dfa6",
   "metadata": {
    "pycharm": {
     "is_executing": false
    }
   },
   "outputs": [],
   "source": [
    "data_cp = data.copy()"
   ]
  },
  {
   "cell_type": "code",
   "execution_count": 20,
   "id": "05660375-d3ef-41be-8d0e-a9a0f3b57493",
   "metadata": {},
   "outputs": [],
   "source": [
    "sensors = data_cp.columns[4:9]"
   ]
  },
  {
   "cell_type": "markdown",
   "id": "f36d4755-f49f-4604-8141-b4e450f77322",
   "metadata": {},
   "source": [
    "Зададим размеры окон в часах, основываясь на выделенных периодах. Воспользуемся функциями min, max, std. При необходимости можно изменить периоды или функции."
   ]
  },
  {
   "cell_type": "code",
   "execution_count": 21,
   "id": "f930296f-a322-41dd-bbb0-116e423ae1ab",
   "metadata": {
    "pycharm": {
     "is_executing": false
    }
   },
   "outputs": [],
   "source": [
    "window_sliding(data_cp, dict(zip(list(targets) + list(sensors), [{np.max: [24*20, 24*6, 12], np.min: [24*20, 24*6, 12], np.std: [24*20, 24*6, 12], np.average: [24*20, 24*6, 12]}, \n",
    "                                                           {np.max: [24*20, 24*6, 12], np.min: [24*20, 24*6, 12], np.std: [24*20, 24*6, 12], np.average: [24*20, 24*6, 12]}, \n",
    "                                                           {np.max: [24*20, 24*6, 12], np.min: [24*20, 24*6, 12], np.std: [24*20, 24*6, 12], np.average: [24*20, 24*6, 12]},\n",
    "                                                                {np.max: [24*20, 24*6, 12], np.min: [24*20, 24*6, 12], np.std: [24*20, 24*6, 12], np.average: [24*20, 24*6, 12]},\n",
    "                                                                {np.max: [24*20, 24*6, 12], np.min: [24*20, 24*6, 12], np.std: [24*20, 24*6, 12], np.average: [24*20, 24*6, 12]},\n",
    "                                                                {np.max: [24*20, 24*6, 12], np.min: [24*20, 24*6, 12], np.std: [24*20, 24*6, 12], np.average: [24*20, 24*6, 12]},\n",
    "                                                                {np.max: [24*20, 24*6, 12], np.min: [24*20, 24*6, 12], np.std: [24*20, 24*6, 12], np.average: [24*20, 24*6, 12]},\n",
    "                                                                {np.max: [24*20, 24*6, 12], np.min: [24*20, 24*6, 12], np.std: [24*20, 24*6, 12], np.average: [24*20, 24*6, 12]}])), in_place=True)"
   ]
  },
  {
   "cell_type": "code",
   "execution_count": 22,
   "id": "3746ae32-04f7-4fae-becc-605b0f51caf0",
   "metadata": {},
   "outputs": [
    {
     "data": {
      "text/html": [
       "<div>\n",
       "<style scoped>\n",
       "    .dataframe tbody tr th:only-of-type {\n",
       "        vertical-align: middle;\n",
       "    }\n",
       "\n",
       "    .dataframe tbody tr th {\n",
       "        vertical-align: top;\n",
       "    }\n",
       "\n",
       "    .dataframe thead th {\n",
       "        text-align: right;\n",
       "    }\n",
       "</style>\n",
       "<table border=\"1\" class=\"dataframe\">\n",
       "  <thead>\n",
       "    <tr style=\"text-align: right;\">\n",
       "      <th></th>\n",
       "      <th>date_time</th>\n",
       "      <th>deg_C</th>\n",
       "      <th>relative_humidity</th>\n",
       "      <th>absolute_humidity</th>\n",
       "      <th>sensor_1</th>\n",
       "      <th>sensor_2</th>\n",
       "      <th>sensor_3</th>\n",
       "      <th>sensor_4</th>\n",
       "      <th>sensor_5</th>\n",
       "      <th>target_carbon_monoxide</th>\n",
       "      <th>...</th>\n",
       "      <th>sensor_5_amax_12h</th>\n",
       "      <th>sensor_5_amin_480h</th>\n",
       "      <th>sensor_5_amin_144h</th>\n",
       "      <th>sensor_5_amin_12h</th>\n",
       "      <th>sensor_5_std_480h</th>\n",
       "      <th>sensor_5_std_144h</th>\n",
       "      <th>sensor_5_std_12h</th>\n",
       "      <th>sensor_5_average_480h</th>\n",
       "      <th>sensor_5_average_144h</th>\n",
       "      <th>sensor_5_average_12h</th>\n",
       "    </tr>\n",
       "  </thead>\n",
       "  <tbody>\n",
       "    <tr>\n",
       "      <th>0</th>\n",
       "      <td>2010-03-10 18:00:00</td>\n",
       "      <td>13.1</td>\n",
       "      <td>46.0</td>\n",
       "      <td>0.7578</td>\n",
       "      <td>1387.2</td>\n",
       "      <td>1087.8</td>\n",
       "      <td>1056.0</td>\n",
       "      <td>1742.8</td>\n",
       "      <td>1293.4</td>\n",
       "      <td>2.5</td>\n",
       "      <td>...</td>\n",
       "      <td>1293.4</td>\n",
       "      <td>1293.4</td>\n",
       "      <td>1293.4</td>\n",
       "      <td>1293.4</td>\n",
       "      <td>NaN</td>\n",
       "      <td>NaN</td>\n",
       "      <td>NaN</td>\n",
       "      <td>1293.400000</td>\n",
       "      <td>1293.400000</td>\n",
       "      <td>1293.400000</td>\n",
       "    </tr>\n",
       "    <tr>\n",
       "      <th>1</th>\n",
       "      <td>2010-03-10 19:00:00</td>\n",
       "      <td>13.2</td>\n",
       "      <td>45.3</td>\n",
       "      <td>0.7255</td>\n",
       "      <td>1279.1</td>\n",
       "      <td>888.2</td>\n",
       "      <td>1197.5</td>\n",
       "      <td>1449.9</td>\n",
       "      <td>1010.9</td>\n",
       "      <td>2.1</td>\n",
       "      <td>...</td>\n",
       "      <td>1293.4</td>\n",
       "      <td>1010.9</td>\n",
       "      <td>1010.9</td>\n",
       "      <td>1010.9</td>\n",
       "      <td>199.757666</td>\n",
       "      <td>199.757666</td>\n",
       "      <td>199.757666</td>\n",
       "      <td>1152.150000</td>\n",
       "      <td>1152.150000</td>\n",
       "      <td>1152.150000</td>\n",
       "    </tr>\n",
       "    <tr>\n",
       "      <th>2</th>\n",
       "      <td>2010-03-10 20:00:00</td>\n",
       "      <td>12.6</td>\n",
       "      <td>56.2</td>\n",
       "      <td>0.7502</td>\n",
       "      <td>1331.9</td>\n",
       "      <td>929.6</td>\n",
       "      <td>1060.2</td>\n",
       "      <td>1586.1</td>\n",
       "      <td>1117.0</td>\n",
       "      <td>2.2</td>\n",
       "      <td>...</td>\n",
       "      <td>1293.4</td>\n",
       "      <td>1010.9</td>\n",
       "      <td>1010.9</td>\n",
       "      <td>1010.9</td>\n",
       "      <td>142.700397</td>\n",
       "      <td>142.700397</td>\n",
       "      <td>142.700397</td>\n",
       "      <td>1140.433333</td>\n",
       "      <td>1140.433333</td>\n",
       "      <td>1140.433333</td>\n",
       "    </tr>\n",
       "    <tr>\n",
       "      <th>3</th>\n",
       "      <td>2010-03-10 21:00:00</td>\n",
       "      <td>11.0</td>\n",
       "      <td>62.4</td>\n",
       "      <td>0.7867</td>\n",
       "      <td>1321.0</td>\n",
       "      <td>929.0</td>\n",
       "      <td>1102.9</td>\n",
       "      <td>1536.5</td>\n",
       "      <td>1263.2</td>\n",
       "      <td>2.2</td>\n",
       "      <td>...</td>\n",
       "      <td>1293.4</td>\n",
       "      <td>1010.9</td>\n",
       "      <td>1010.9</td>\n",
       "      <td>1010.9</td>\n",
       "      <td>131.694783</td>\n",
       "      <td>131.694783</td>\n",
       "      <td>131.694783</td>\n",
       "      <td>1171.125000</td>\n",
       "      <td>1171.125000</td>\n",
       "      <td>1171.125000</td>\n",
       "    </tr>\n",
       "    <tr>\n",
       "      <th>4</th>\n",
       "      <td>2010-03-10 22:00:00</td>\n",
       "      <td>11.9</td>\n",
       "      <td>59.0</td>\n",
       "      <td>0.7888</td>\n",
       "      <td>1272.0</td>\n",
       "      <td>852.7</td>\n",
       "      <td>1180.9</td>\n",
       "      <td>1415.5</td>\n",
       "      <td>1132.2</td>\n",
       "      <td>1.5</td>\n",
       "      <td>...</td>\n",
       "      <td>1293.4</td>\n",
       "      <td>1010.9</td>\n",
       "      <td>1010.9</td>\n",
       "      <td>1010.9</td>\n",
       "      <td>115.371868</td>\n",
       "      <td>115.371868</td>\n",
       "      <td>115.371868</td>\n",
       "      <td>1163.340000</td>\n",
       "      <td>1163.340000</td>\n",
       "      <td>1163.340000</td>\n",
       "    </tr>\n",
       "  </tbody>\n",
       "</table>\n",
       "<p>5 rows × 108 columns</p>\n",
       "</div>"
      ],
      "text/plain": [
       "             date_time  deg_C  relative_humidity  absolute_humidity  sensor_1  \\\n",
       "0  2010-03-10 18:00:00   13.1               46.0             0.7578    1387.2   \n",
       "1  2010-03-10 19:00:00   13.2               45.3             0.7255    1279.1   \n",
       "2  2010-03-10 20:00:00   12.6               56.2             0.7502    1331.9   \n",
       "3  2010-03-10 21:00:00   11.0               62.4             0.7867    1321.0   \n",
       "4  2010-03-10 22:00:00   11.9               59.0             0.7888    1272.0   \n",
       "\n",
       "   sensor_2  sensor_3  sensor_4  sensor_5  target_carbon_monoxide  ...  \\\n",
       "0    1087.8    1056.0    1742.8    1293.4                     2.5  ...   \n",
       "1     888.2    1197.5    1449.9    1010.9                     2.1  ...   \n",
       "2     929.6    1060.2    1586.1    1117.0                     2.2  ...   \n",
       "3     929.0    1102.9    1536.5    1263.2                     2.2  ...   \n",
       "4     852.7    1180.9    1415.5    1132.2                     1.5  ...   \n",
       "\n",
       "   sensor_5_amax_12h  sensor_5_amin_480h  sensor_5_amin_144h  \\\n",
       "0             1293.4              1293.4              1293.4   \n",
       "1             1293.4              1010.9              1010.9   \n",
       "2             1293.4              1010.9              1010.9   \n",
       "3             1293.4              1010.9              1010.9   \n",
       "4             1293.4              1010.9              1010.9   \n",
       "\n",
       "   sensor_5_amin_12h  sensor_5_std_480h  sensor_5_std_144h  sensor_5_std_12h  \\\n",
       "0             1293.4                NaN                NaN               NaN   \n",
       "1             1010.9         199.757666         199.757666        199.757666   \n",
       "2             1010.9         142.700397         142.700397        142.700397   \n",
       "3             1010.9         131.694783         131.694783        131.694783   \n",
       "4             1010.9         115.371868         115.371868        115.371868   \n",
       "\n",
       "   sensor_5_average_480h  sensor_5_average_144h  sensor_5_average_12h  \n",
       "0            1293.400000            1293.400000           1293.400000  \n",
       "1            1152.150000            1152.150000           1152.150000  \n",
       "2            1140.433333            1140.433333           1140.433333  \n",
       "3            1171.125000            1171.125000           1171.125000  \n",
       "4            1163.340000            1163.340000           1163.340000  \n",
       "\n",
       "[5 rows x 108 columns]"
      ]
     },
     "execution_count": 22,
     "metadata": {},
     "output_type": "execute_result"
    }
   ],
   "source": [
    "data_cp.head(5)"
   ]
  },
  {
   "cell_type": "markdown",
   "id": "b1f1fc66-bdca-47b7-918e-47a411a870ca",
   "metadata": {},
   "source": [
    "Также можно продифферецнировать ряд"
   ]
  },
  {
   "cell_type": "code",
   "execution_count": 23,
   "id": "cfcf5f27-498f-4c42-ad15-5dadb8d65725",
   "metadata": {
    "pycharm": {
     "is_executing": false
    }
   },
   "outputs": [],
   "source": [
    "def diff(targets_with_n: dict):\n",
    "    for t, n in targets_with_n.items():\n",
    "        data_cp[f'{t}_diff_{n}'] = data_cp[f'{t}'].diff(n)"
   ]
  },
  {
   "cell_type": "code",
   "execution_count": 24,
   "id": "8fe96986-d8ed-464e-98a3-509701411a2a",
   "metadata": {
    "pycharm": {
     "is_executing": false
    }
   },
   "outputs": [],
   "source": [
    "diff(dict(zip(targets, [1, 1, 1])))"
   ]
  },
  {
   "cell_type": "code",
   "execution_count": 25,
   "id": "435d8df0-597b-46e5-b417-aad07057dfd5",
   "metadata": {
    "pycharm": {
     "name": "#%%\n"
    }
   },
   "outputs": [],
   "source": [
    "diff(dict(zip(targets, [2, 2, 2])))"
   ]
  },
  {
   "cell_type": "markdown",
   "id": "1dbeb373-4a00-4b27-968a-1f19a9deeea1",
   "metadata": {
    "pycharm": {
     "name": "#%% md\n"
    }
   },
   "source": [
    "Также сделаем отдельные параметры для дня, месяца, года. Также сделаем отдельный параметр для сезонов, как это было сделано в EDA"
   ]
  },
  {
   "cell_type": "code",
   "execution_count": 26,
   "id": "43373867-d73a-43e5-97d9-e9af6f50cf08",
   "metadata": {
    "pycharm": {
     "is_executing": false
    }
   },
   "outputs": [],
   "source": [
    "data_cp.date_time = pd.to_datetime(data.date_time)"
   ]
  },
  {
   "cell_type": "code",
   "execution_count": 27,
   "id": "55543034-a0ec-4940-96b1-5b3b4ec276a1",
   "metadata": {
    "pycharm": {
     "is_executing": false
    }
   },
   "outputs": [],
   "source": [
    "interval_1 = data.date_time < data.date_time[3450]\n",
    "interval_2 = (data.date_time > data.date_time[3450]) & (data.date_time < data.date_time[4200])\n",
    "interval_3 = data.date_time > data.date_time[4200]\n",
    "\n",
    "data_cp[\"season\"] = np.nan\n",
    "data_cp.loc[interval_1, 'season'], data_cp.loc[interval_2, 'season'], data_cp.loc[interval_3, 'season'] = 1, 2, 3"
   ]
  },
  {
   "cell_type": "code",
   "execution_count": 28,
   "id": "35d1f21c-07db-4552-bacc-e87408a8e865",
   "metadata": {
    "pycharm": {
     "is_executing": false
    }
   },
   "outputs": [],
   "source": [
    "data_cp[\"date_time_hour\"] = data_cp.date_time.dt.hour.astype('float64')\n",
    "data_cp[\"date_time_day\"] = data_cp.date_time.dt.day.astype('float64')\n",
    "data_cp[\"date_time_month\"] = data_cp.date_time.dt.month.astype('float64')\n",
    "data_cp[\"date_time_year\"] = data_cp.date_time.dt.year.astype('float64')"
   ]
  },
  {
   "cell_type": "code",
   "execution_count": 29,
   "id": "0c50cb3e-a3b0-4119-a36b-129b0b183b8c",
   "metadata": {
    "pycharm": {
     "is_executing": false,
     "name": "#%%\n"
    }
   },
   "outputs": [
    {
     "data": {
      "text/html": [
       "<div>\n",
       "<style scoped>\n",
       "    .dataframe tbody tr th:only-of-type {\n",
       "        vertical-align: middle;\n",
       "    }\n",
       "\n",
       "    .dataframe tbody tr th {\n",
       "        vertical-align: top;\n",
       "    }\n",
       "\n",
       "    .dataframe thead th {\n",
       "        text-align: right;\n",
       "    }\n",
       "</style>\n",
       "<table border=\"1\" class=\"dataframe\">\n",
       "  <thead>\n",
       "    <tr style=\"text-align: right;\">\n",
       "      <th></th>\n",
       "      <th>target_carbon_monoxide</th>\n",
       "      <th>target_benzene</th>\n",
       "      <th>target_nitrogen_oxides</th>\n",
       "      <th>target_carbon_monoxide_amax_480h</th>\n",
       "      <th>target_carbon_monoxide_amax_144h</th>\n",
       "      <th>target_carbon_monoxide_amax_12h</th>\n",
       "      <th>target_carbon_monoxide_amin_480h</th>\n",
       "      <th>target_carbon_monoxide_amin_144h</th>\n",
       "      <th>target_carbon_monoxide_amin_12h</th>\n",
       "      <th>target_carbon_monoxide_std_480h</th>\n",
       "      <th>...</th>\n",
       "      <th>target_benzene_diff_1</th>\n",
       "      <th>target_nitrogen_oxides_diff_1</th>\n",
       "      <th>target_carbon_monoxide_diff_2</th>\n",
       "      <th>target_benzene_diff_2</th>\n",
       "      <th>target_nitrogen_oxides_diff_2</th>\n",
       "      <th>season</th>\n",
       "      <th>date_time_hour</th>\n",
       "      <th>date_time_day</th>\n",
       "      <th>date_time_month</th>\n",
       "      <th>date_time_year</th>\n",
       "    </tr>\n",
       "  </thead>\n",
       "  <tbody>\n",
       "    <tr>\n",
       "      <th>0</th>\n",
       "      <td>2.5</td>\n",
       "      <td>12.0</td>\n",
       "      <td>167.7</td>\n",
       "      <td>2.5</td>\n",
       "      <td>2.5</td>\n",
       "      <td>2.5</td>\n",
       "      <td>2.5</td>\n",
       "      <td>2.5</td>\n",
       "      <td>2.5</td>\n",
       "      <td>NaN</td>\n",
       "      <td>...</td>\n",
       "      <td>NaN</td>\n",
       "      <td>NaN</td>\n",
       "      <td>NaN</td>\n",
       "      <td>NaN</td>\n",
       "      <td>NaN</td>\n",
       "      <td>1.0</td>\n",
       "      <td>18.0</td>\n",
       "      <td>10.0</td>\n",
       "      <td>3.0</td>\n",
       "      <td>2010.0</td>\n",
       "    </tr>\n",
       "    <tr>\n",
       "      <th>1</th>\n",
       "      <td>2.1</td>\n",
       "      <td>9.9</td>\n",
       "      <td>98.9</td>\n",
       "      <td>2.5</td>\n",
       "      <td>2.5</td>\n",
       "      <td>2.5</td>\n",
       "      <td>2.1</td>\n",
       "      <td>2.1</td>\n",
       "      <td>2.1</td>\n",
       "      <td>0.282843</td>\n",
       "      <td>...</td>\n",
       "      <td>-2.1</td>\n",
       "      <td>-68.8</td>\n",
       "      <td>NaN</td>\n",
       "      <td>NaN</td>\n",
       "      <td>NaN</td>\n",
       "      <td>1.0</td>\n",
       "      <td>19.0</td>\n",
       "      <td>10.0</td>\n",
       "      <td>3.0</td>\n",
       "      <td>2010.0</td>\n",
       "    </tr>\n",
       "    <tr>\n",
       "      <th>2</th>\n",
       "      <td>2.2</td>\n",
       "      <td>9.2</td>\n",
       "      <td>127.1</td>\n",
       "      <td>2.5</td>\n",
       "      <td>2.5</td>\n",
       "      <td>2.5</td>\n",
       "      <td>2.1</td>\n",
       "      <td>2.1</td>\n",
       "      <td>2.1</td>\n",
       "      <td>0.208167</td>\n",
       "      <td>...</td>\n",
       "      <td>-0.7</td>\n",
       "      <td>28.2</td>\n",
       "      <td>-0.3</td>\n",
       "      <td>-2.8</td>\n",
       "      <td>-40.6</td>\n",
       "      <td>1.0</td>\n",
       "      <td>20.0</td>\n",
       "      <td>10.0</td>\n",
       "      <td>3.0</td>\n",
       "      <td>2010.0</td>\n",
       "    </tr>\n",
       "    <tr>\n",
       "      <th>3</th>\n",
       "      <td>2.2</td>\n",
       "      <td>9.7</td>\n",
       "      <td>177.2</td>\n",
       "      <td>2.5</td>\n",
       "      <td>2.5</td>\n",
       "      <td>2.5</td>\n",
       "      <td>2.1</td>\n",
       "      <td>2.1</td>\n",
       "      <td>2.1</td>\n",
       "      <td>0.173205</td>\n",
       "      <td>...</td>\n",
       "      <td>0.5</td>\n",
       "      <td>50.1</td>\n",
       "      <td>0.1</td>\n",
       "      <td>-0.2</td>\n",
       "      <td>78.3</td>\n",
       "      <td>1.0</td>\n",
       "      <td>21.0</td>\n",
       "      <td>10.0</td>\n",
       "      <td>3.0</td>\n",
       "      <td>2010.0</td>\n",
       "    </tr>\n",
       "    <tr>\n",
       "      <th>4</th>\n",
       "      <td>1.5</td>\n",
       "      <td>6.4</td>\n",
       "      <td>121.8</td>\n",
       "      <td>2.5</td>\n",
       "      <td>2.5</td>\n",
       "      <td>2.5</td>\n",
       "      <td>1.5</td>\n",
       "      <td>1.5</td>\n",
       "      <td>1.5</td>\n",
       "      <td>0.367423</td>\n",
       "      <td>...</td>\n",
       "      <td>-3.3</td>\n",
       "      <td>-55.4</td>\n",
       "      <td>-0.7</td>\n",
       "      <td>-2.8</td>\n",
       "      <td>-5.3</td>\n",
       "      <td>1.0</td>\n",
       "      <td>22.0</td>\n",
       "      <td>10.0</td>\n",
       "      <td>3.0</td>\n",
       "      <td>2010.0</td>\n",
       "    </tr>\n",
       "  </tbody>\n",
       "</table>\n",
       "<p>5 rows × 110 columns</p>\n",
       "</div>"
      ],
      "text/plain": [
       "   target_carbon_monoxide  target_benzene  target_nitrogen_oxides  \\\n",
       "0                     2.5            12.0                   167.7   \n",
       "1                     2.1             9.9                    98.9   \n",
       "2                     2.2             9.2                   127.1   \n",
       "3                     2.2             9.7                   177.2   \n",
       "4                     1.5             6.4                   121.8   \n",
       "\n",
       "   target_carbon_monoxide_amax_480h  target_carbon_monoxide_amax_144h  \\\n",
       "0                               2.5                               2.5   \n",
       "1                               2.5                               2.5   \n",
       "2                               2.5                               2.5   \n",
       "3                               2.5                               2.5   \n",
       "4                               2.5                               2.5   \n",
       "\n",
       "   target_carbon_monoxide_amax_12h  target_carbon_monoxide_amin_480h  \\\n",
       "0                              2.5                               2.5   \n",
       "1                              2.5                               2.1   \n",
       "2                              2.5                               2.1   \n",
       "3                              2.5                               2.1   \n",
       "4                              2.5                               1.5   \n",
       "\n",
       "   target_carbon_monoxide_amin_144h  target_carbon_monoxide_amin_12h  \\\n",
       "0                               2.5                              2.5   \n",
       "1                               2.1                              2.1   \n",
       "2                               2.1                              2.1   \n",
       "3                               2.1                              2.1   \n",
       "4                               1.5                              1.5   \n",
       "\n",
       "   target_carbon_monoxide_std_480h  ...  target_benzene_diff_1  \\\n",
       "0                              NaN  ...                    NaN   \n",
       "1                         0.282843  ...                   -2.1   \n",
       "2                         0.208167  ...                   -0.7   \n",
       "3                         0.173205  ...                    0.5   \n",
       "4                         0.367423  ...                   -3.3   \n",
       "\n",
       "   target_nitrogen_oxides_diff_1  target_carbon_monoxide_diff_2  \\\n",
       "0                            NaN                            NaN   \n",
       "1                          -68.8                            NaN   \n",
       "2                           28.2                           -0.3   \n",
       "3                           50.1                            0.1   \n",
       "4                          -55.4                           -0.7   \n",
       "\n",
       "   target_benzene_diff_2  target_nitrogen_oxides_diff_2  season  \\\n",
       "0                    NaN                            NaN     1.0   \n",
       "1                    NaN                            NaN     1.0   \n",
       "2                   -2.8                          -40.6     1.0   \n",
       "3                   -0.2                           78.3     1.0   \n",
       "4                   -2.8                           -5.3     1.0   \n",
       "\n",
       "   date_time_hour  date_time_day  date_time_month  date_time_year  \n",
       "0            18.0           10.0              3.0          2010.0  \n",
       "1            19.0           10.0              3.0          2010.0  \n",
       "2            20.0           10.0              3.0          2010.0  \n",
       "3            21.0           10.0              3.0          2010.0  \n",
       "4            22.0           10.0              3.0          2010.0  \n",
       "\n",
       "[5 rows x 110 columns]"
      ]
     },
     "execution_count": 29,
     "metadata": {},
     "output_type": "execute_result"
    }
   ],
   "source": [
    "data_cp.iloc[:, 9:].head(5)"
   ]
  },
  {
   "cell_type": "markdown",
   "id": "79f5a351-239a-450e-add6-44f8691f4d30",
   "metadata": {
    "pycharm": {
     "name": "#%% md\n"
    }
   },
   "source": [
    "Также нам может понадобиться масштабирование признаков. Если этого не сделать, то в случае применения регуляризации модель будет работать хуже, так как у малых по модулю признаков, возможно, будут большие веса, а регуляризация \"штрафует\" за это. Также масштабирование повысит интерпретируемость, так как веса можно будет понимать как важность признака."
   ]
  },
  {
   "cell_type": "code",
   "execution_count": 30,
   "id": "fc25ca48-84fe-424d-bd97-fc2b26d88a89",
   "metadata": {
    "pycharm": {
     "is_executing": false,
     "name": "#%%\n"
    }
   },
   "outputs": [],
   "source": [
    "features = list(data_cp.columns[1:9]) + list(data_cp.columns[12:])"
   ]
  },
  {
   "cell_type": "code",
   "execution_count": 31,
   "id": "995fb5aa-7716-4a54-8eda-652a4ba29798",
   "metadata": {
    "pycharm": {
     "is_executing": false
    }
   },
   "outputs": [],
   "source": [
    "from sklearn.preprocessing import StandardScaler\n",
    "\n",
    "X, Y = data_cp.dropna()[features + list(targets)], data_cp.dropna()[targets]\n",
    "\n",
    "scaler = StandardScaler()\n",
    "features_scaled = scaler.fit_transform(X, Y)"
   ]
  },
  {
   "cell_type": "code",
   "execution_count": 32,
   "id": "ff04a17f-511f-4e7d-93b7-1dd111a8a727",
   "metadata": {
    "pycharm": {
     "is_executing": false
    }
   },
   "outputs": [],
   "source": [
    "save_data('data_v4.1', features_scaled, Y, data_cp)"
   ]
  }
 ],
 "metadata": {
  "kernelspec": {
   "display_name": "Python 3",
   "language": "python",
   "name": "python3"
  },
  "language_info": {
   "codemirror_mode": {
    "name": "ipython",
    "version": 3
   },
   "file_extension": ".py",
   "mimetype": "text/x-python",
   "name": "python",
   "nbconvert_exporter": "python",
   "pygments_lexer": "ipython3",
   "version": "3.9.5"
  },
  "pycharm": {
   "stem_cell": {
    "cell_type": "raw",
    "source": [],
    "metadata": {
     "collapsed": false
    }
   }
  }
 },
 "nbformat": 4,
 "nbformat_minor": 5
}
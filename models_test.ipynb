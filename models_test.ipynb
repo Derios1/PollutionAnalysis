{
 "cells": [
  {
   "cell_type": "code",
   "execution_count": 5,
   "id": "a89d8e5e-d607-4cc1-b770-c1b92b829868",
   "metadata": {},
   "outputs": [],
   "source": [
    "import numpy as np\n",
    "\n",
    "from sklearn.linear_model import Ridge, Lasso, LinearRegression\n",
    "from sklearn.tree import DecisionTreeRegressor\n",
    "from validation import TimeSeriesWalkingForwardCV, TimeSeriesWindowCV\n",
    "\n",
    "optimizer_ridge = TimeSeriesWindowCV(Ridge, 24*30, 24*10)\n",
    "optimizer_lasso = TimeSeriesWindowCV(Lasso, 24*30, 24*10)\n",
    "optimizer_DT = TimeSeriesWindowCV(DecisionTreeRegressor, 24*30, 24*10)"
   ]
  },
  {
   "cell_type": "code",
   "execution_count": 6,
   "id": "2d9b4b4a-9682-4022-b8a8-a296e95cecb0",
   "metadata": {},
   "outputs": [],
   "source": [
    "%store -r features_scaled\n",
    "%store -r Y"
   ]
  },
  {
   "cell_type": "code",
   "execution_count": 8,
   "id": "7b10dfa0-1f9e-4a61-908a-b8b1a53c1454",
   "metadata": {},
   "outputs": [
    {
     "name": "stdout",
     "output_type": "stream",
     "text": [
      "[1.72632949e-01 2.43265028e+00 2.97313736e+03] [1.41056028e+00 5.57926830e+00 3.32416983e+03] [5.53509615e-01 9.83314263e+00 8.99183420e+03]\n"
     ]
    }
   ],
   "source": [
    "optimizer_ridge.fit(features_scaled, np.array(Y))\n",
    "optimizer_lasso.fit(features_scaled, np.array(Y))\n",
    "optimizer_DT.fit(features_scaled, np.array(Y))\n",
    "\n",
    "print(optimizer_ridge.mean_error(),\n",
    "      optimizer_lasso.mean_error(),\n",
    "      optimizer_DT.mean_error())"
   ]
  },
  {
   "cell_type": "code",
   "execution_count": 9,
   "id": "20a1804d-feb8-4033-9d8c-5b789be3b665",
   "metadata": {},
   "outputs": [],
   "source": [
    "optimizer_ridge = TimeSeriesWalkingForwardCV(Ridge, test_size=24*10, n_splits=10)\n",
    "optimizer_lasso = TimeSeriesWalkingForwardCV(Lasso, test_size=24*10, n_splits=10)\n",
    "optimizer_DT = TimeSeriesWalkingForwardCV(DecisionTreeRegressor, test_size=24*10, n_splits=10)\n",
    "\n",
    "optimizer_ridge.fit(features_scaled, np.array(Y))\n",
    "optimizer_lasso.fit(features_scaled, np.array(Y))\n",
    "optimizer_DT.fit(features_scaled, np.array(Y))"
   ]
  },
  {
   "cell_type": "code",
   "execution_count": 10,
   "id": "38a3e1bf-ea2d-428b-a12f-c2c3a2adc423",
   "metadata": {},
   "outputs": [
    {
     "name": "stdout",
     "output_type": "stream",
     "text": [
      "[2.43362732e-01 3.50172389e+00 7.05859469e+03] [2.94978265e+00 8.24545517e+00 8.26215260e+03] [9.70129167e-01 2.04424792e+01 1.30877476e+04]\n"
     ]
    }
   ],
   "source": [
    "print(optimizer_ridge.mean_error(),\n",
    "      optimizer_lasso.mean_error(),\n",
    "      optimizer_DT.mean_error())"
   ]
  },
  {
   "cell_type": "code",
   "execution_count": null,
   "id": "951aecad-a04f-4ac6-9a06-a48c75756919",
   "metadata": {},
   "outputs": [],
   "source": []
  }
 ],
 "metadata": {
  "kernelspec": {
   "display_name": "Python 3",
   "language": "python",
   "name": "python3"
  },
  "language_info": {
   "codemirror_mode": {
    "name": "ipython",
    "version": 3
   },
   "file_extension": ".py",
   "mimetype": "text/x-python",
   "name": "python",
   "nbconvert_exporter": "python",
   "pygments_lexer": "ipython3",
   "version": "3.9.5"
  }
 },
 "nbformat": 4,
 "nbformat_minor": 5
}

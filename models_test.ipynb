{
 "cells": [
  {
   "cell_type": "code",
   "execution_count": 1,
   "id": "a89d8e5e-d607-4cc1-b770-c1b92b829868",
   "metadata": {},
   "outputs": [],
   "source": [
    "import numpy as np\n",
    "\n",
    "from sklearn.linear_model import Ridge, Lasso, LinearRegression\n",
    "from sklearn.tree import DecisionTreeRegressor\n",
    "from validation import TimeSeriesWalkingForwardCV, TimeSeriesWindowCV\n",
    "\n",
    "optimizer_ridge = TimeSeriesWindowCV(Ridge, 24*30, 24*10, param_grid={'alpha': [0.05, 0.1, 0.5, 1, 2, 5], 'tol':[1e-4, 1e-3, 1e-2]})\n",
    "optimizer_lasso = TimeSeriesWindowCV(Lasso, 24*30, 24*10, param_grid={'alpha': [0.05, 0.1, 0.5, 1, 2, 5], 'tol':[1e-4, 1e-3, 1e-2], 'max_iter': [1000000]})\n",
    "optimizer_DT = TimeSeriesWindowCV(DecisionTreeRegressor, 24*30, 24*10)"
   ]
  },
  {
   "cell_type": "code",
   "execution_count": 2,
   "id": "2d9b4b4a-9682-4022-b8a8-a296e95cecb0",
   "metadata": {},
   "outputs": [],
   "source": [
    "%store -r features_scaled\n",
    "%store -r Y"
   ]
  },
  {
   "cell_type": "code",
   "execution_count": 3,
   "id": "7b10dfa0-1f9e-4a61-908a-b8b1a53c1454",
   "metadata": {},
   "outputs": [
    {
     "name": "stdout",
     "output_type": "stream",
     "text": [
      "[0.17210655655244042, 2.3899640739134447, 2970.766565510177] [0.31826607472413876, 2.372499696839336, 2978.670276663507] [0.6040272435897438, 10.582932692307692, 8471.791424679486]\n"
     ]
    }
   ],
   "source": [
    "optimizer_ridge.fit(features_scaled, np.array(Y))\n",
    "optimizer_lasso.fit(features_scaled, np.array(Y))\n",
    "optimizer_DT.fit(features_scaled, np.array(Y))\n",
    "\n",
    "print(optimizer_ridge.best_errors,\n",
    "      optimizer_lasso.best_errors,\n",
    "      optimizer_DT.best_errors)"
   ]
  },
  {
   "cell_type": "code",
   "execution_count": null,
   "id": "20a1804d-feb8-4033-9d8c-5b789be3b665",
   "metadata": {},
   "outputs": [],
   "source": [
    "optimizer_ridge = TimeSeriesWalkingForwardCV(Ridge, test_size=24*10, n_splits=10, param_grid={'alpha': [0.05, 0.1, 0.5, 1, 2, 5], 'tol':[1e-4, 1e-3, 1e-2]})\n",
    "optimizer_lasso = TimeSeriesWalkingForwardCV(Lasso, test_size=24*10, n_splits=10, param_grid={'alpha': [0.05, 0.1, 0.5, 1, 2, 5], 'tol':[1e-4, 1e-3, 1e-2], 'max_iter': [1000000]})\n",
    "optimizer_DT = TimeSeriesWalkingForwardCV(DecisionTreeRegressor, test_size=24*10, n_splits=10)\n",
    "\n",
    "optimizer_ridge.fit(features_scaled, np.array(Y))\n",
    "optimizer_lasso.fit(features_scaled, np.array(Y))\n",
    "optimizer_DT.fit(features_scaled, np.array(Y))"
   ]
  },
  {
   "cell_type": "code",
   "execution_count": null,
   "id": "38a3e1bf-ea2d-428b-a12f-c2c3a2adc423",
   "metadata": {},
   "outputs": [],
   "source": [
    "print(optimizer_ridge.best_errors,\n",
    "      optimizer_lasso.best_errors,\n",
    "      optimizer_DT.best_errors)"
   ]
  },
  {
   "cell_type": "code",
   "execution_count": null,
   "id": "951aecad-a04f-4ac6-9a06-a48c75756919",
   "metadata": {},
   "outputs": [],
   "source": []
  },
  {
   "cell_type": "code",
   "execution_count": null,
   "id": "3aa0d08b-cf3f-423f-9f04-4cae758d876b",
   "metadata": {},
   "outputs": [],
   "source": []
  }
 ],
 "metadata": {
  "kernelspec": {
   "display_name": "Python 3",
   "language": "python",
   "name": "python3"
  },
  "language_info": {
   "codemirror_mode": {
    "name": "ipython",
    "version": 3
   },
   "file_extension": ".py",
   "mimetype": "text/x-python",
   "name": "python",
   "nbconvert_exporter": "python",
   "pygments_lexer": "ipython3",
   "version": "3.9.5"
  }
 },
 "nbformat": 4,
 "nbformat_minor": 5
}
